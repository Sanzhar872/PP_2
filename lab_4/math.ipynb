{
 "cells": [
  {
   "cell_type": "markdown",
   "metadata": {},
   "source": [
    "Write a Python program to convert degree to radian."
   ]
  },
  {
   "cell_type": "code",
   "execution_count": 2,
   "metadata": {},
   "outputs": [
    {
     "name": "stdout",
     "output_type": "stream",
     "text": [
      "0.2617993877991494\n"
     ]
    }
   ],
   "source": [
    "import math \n",
    "def degree_to_rad(x):\n",
    "    radian = x*math.pi/180\n",
    "    return radian\n",
    "\n",
    "degree = int(input('degree: '))\n",
    "print(degree_to_rad(degree))"
   ]
  },
  {
   "cell_type": "markdown",
   "metadata": {},
   "source": [
    "Write a Python program to calculate the area of a trapezoid.\n",
    "Height: 5\n",
    "Base, first value: 5\n",
    "Base, second value: 6\n",
    "Expected Output: 27.5"
   ]
  },
  {
   "cell_type": "code",
   "execution_count": null,
   "metadata": {},
   "outputs": [
    {
     "name": "stdout",
     "output_type": "stream",
     "text": [
      "27.5\n"
     ]
    }
   ],
   "source": [
    "def area(height, B1, B2):\n",
    "    return (B1+B2)*height / 2\n",
    "\n",
    "H = float(input(\"height: \"))\n",
    "base_1 = float(input(\"base 1: \"))\n",
    "base_2 = float(input(\"base 2: \"))\n",
    "print(f\"Area is: {area(H, base_1, base_2): .1f}\")\n"
   ]
  },
  {
   "cell_type": "markdown",
   "metadata": {},
   "source": [
    "Write a Python program to calculate the area of regular polygon.\n",
    "Input number of sides: 4\n",
    "Input the length of a side: 25\n",
    "The area of the polygon is: 625"
   ]
  },
  {
   "cell_type": "code",
   "execution_count": 6,
   "metadata": {},
   "outputs": [
    {
     "name": "stdout",
     "output_type": "stream",
     "text": [
      "the area of lolygon is: 625\n"
     ]
    }
   ],
   "source": [
    "import math\n",
    "\n",
    "def regular_polygon_area(n, s):\n",
    "    \"\"\"Вычисляет площадь правильного n-угольника со стороной s\"\"\"\n",
    "    return (n * s**2) / (4 * math.tan(math.pi / n))\n",
    "\n",
    "n = int(input(\"number of sides: \"))\n",
    "s = int(input(\"lenght: \"))\n",
    "print(f\"the area of lolygon is: {regular_polygon_area(n,s):.0f}\")"
   ]
  },
  {
   "cell_type": "markdown",
   "metadata": {},
   "source": [
    "Write a Python program to calculate the area of a parallelogram.\n",
    "Length of base: 5\n",
    "Height of parallelogram: 6\n",
    "Expected Output: 30.0"
   ]
  },
  {
   "cell_type": "code",
   "execution_count": null,
   "metadata": {},
   "outputs": [],
   "source": [
    "def parallelogram_area(base, height):\n",
    "    \"\"\"Вычисляет площадь параллелограмма\"\"\"\n",
    "    return base * height  # Формула: S = base × height\n",
    "\n",
    "base = float(input(\"Length of base: \"))\n",
    "height = float(input(\"Height of parallelogram: \"))\n",
    "\n",
    "area = parallelogram_area(base, height)\n",
    "\n",
    "print(f\"area of parallelogram: {area:.1f}\")\n"
   ]
  }
 ],
 "metadata": {
  "kernelspec": {
   "display_name": "Python 3",
   "language": "python",
   "name": "python3"
  },
  "language_info": {
   "codemirror_mode": {
    "name": "ipython",
    "version": 3
   },
   "file_extension": ".py",
   "mimetype": "text/x-python",
   "name": "python",
   "nbconvert_exporter": "python",
   "pygments_lexer": "ipython3",
   "version": "3.11.3"
  }
 },
 "nbformat": 4,
 "nbformat_minor": 2
}
