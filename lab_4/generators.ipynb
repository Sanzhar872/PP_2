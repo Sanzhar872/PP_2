{
 "cells": [
  {
   "cell_type": "markdown",
   "metadata": {},
   "source": [
    " Create a generator that generates the squares of numbers up to some number N.\n",
    "\n"
   ]
  },
  {
   "cell_type": "code",
   "execution_count": 1,
   "metadata": {},
   "outputs": [
    {
     "name": "stdout",
     "output_type": "stream",
     "text": [
      "1\n",
      "4\n",
      "9\n",
      "16\n"
     ]
    }
   ],
   "source": [
    "def generator(N):\n",
    "    i = 1\n",
    "    while i <= N:\n",
    "        yield i**2\n",
    "        i += 1\n",
    "\n",
    "n = int(input(\"enter the number: \"))\n",
    "for s in generator(n):\n",
    "    print(s)"
   ]
  },
  {
   "cell_type": "markdown",
   "metadata": {},
   "source": [
    "Write a program using generator to print the even numbers between 0 and n in comma separated form where n is input from console.\n",
    "\n"
   ]
  },
  {
   "cell_type": "code",
   "execution_count": 5,
   "metadata": {},
   "outputs": [
    {
     "name": "stdout",
     "output_type": "stream",
     "text": [
      "2,4,6,8,10,12,14\n"
     ]
    }
   ],
   "source": [
    "def generator(N):\n",
    "    i = 1\n",
    "    while i <= N:\n",
    "        if i % 2 == 0:\n",
    "            yield i\n",
    "        i += 1\n",
    "\n",
    "n = int(input(\"enter number \"))\n",
    "print(','.join(map(str, generator(n))))"
   ]
  },
  {
   "cell_type": "markdown",
   "metadata": {},
   "source": [
    "Define a function with a generator which can iterate the numbers, which are divisible by 3 and 4, between a given range 0 and n."
   ]
  },
  {
   "cell_type": "code",
   "execution_count": 8,
   "metadata": {},
   "outputs": [
    {
     "name": "stdout",
     "output_type": "stream",
     "text": [
      "12,24,36,48,60,72,84,96,108,120,132,144,156,168,180,192,204,216\n"
     ]
    }
   ],
   "source": [
    "def generator(N):\n",
    "    i = 1\n",
    "    while i <= N:\n",
    "        if i % 3 == 0 and i % 4 == 0:\n",
    "            yield i\n",
    "        i += 1\n",
    "\n",
    "n = int(input(\"enter number \"))\n",
    "print(','.join(map(str, generator(n))))\n"
   ]
  },
  {
   "cell_type": "markdown",
   "metadata": {},
   "source": [
    "Implement a generator called squares to yield the square of all numbers from (a) to (b). Test it with a \"for\" loop and print each of the yielded values."
   ]
  },
  {
   "cell_type": "code",
   "execution_count": 12,
   "metadata": {},
   "outputs": [
    {
     "name": "stdout",
     "output_type": "stream",
     "text": [
      "1\n",
      "2\n",
      "3\n",
      "4\n",
      "5\n",
      "6\n",
      "7\n",
      "8\n",
      "9\n",
      "10\n",
      "11\n",
      "12\n",
      "13\n",
      "14\n"
     ]
    }
   ],
   "source": [
    "def generator(a,b):\n",
    "    while a <= b:\n",
    "        yield a\n",
    "        a += 1\n",
    "\n",
    "x, y = map(int, input(\"Enter two numbers separated by space: \").split())\n",
    "for i in generator(x,y):\n",
    "    print(i)"
   ]
  },
  {
   "cell_type": "markdown",
   "metadata": {},
   "source": [
    "Implement a generator that returns all numbers from (n) down to 0"
   ]
  },
  {
   "cell_type": "code",
   "execution_count": null,
   "metadata": {},
   "outputs": [
    {
     "name": "stdout",
     "output_type": "stream",
     "text": [
      "5 4 3 2 1 0\n"
     ]
    }
   ],
   "source": [
    "def generator(n):\n",
    "    while n >= 0:\n",
    "        yield n \n",
    "        n -= 1\n",
    "\n",
    "x = int(input(\"n: \"))\n",
    "print(' '.join(map(str,generator(x))))"
   ]
  }
 ],
 "metadata": {
  "kernelspec": {
   "display_name": "Python 3",
   "language": "python",
   "name": "python3"
  },
  "language_info": {
   "codemirror_mode": {
    "name": "ipython",
    "version": 3
   },
   "file_extension": ".py",
   "mimetype": "text/x-python",
   "name": "python",
   "nbconvert_exporter": "python",
   "pygments_lexer": "ipython3",
   "version": "3.11.3"
  }
 },
 "nbformat": 4,
 "nbformat_minor": 2
}
