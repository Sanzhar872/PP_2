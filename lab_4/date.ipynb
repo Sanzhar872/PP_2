{
 "cells": [
  {
   "cell_type": "markdown",
   "metadata": {},
   "source": [
    "Write a Python program to subtract five days from current date."
   ]
  },
  {
   "cell_type": "code",
   "execution_count": 1,
   "metadata": {},
   "outputs": [
    {
     "name": "stdout",
     "output_type": "stream",
     "text": [
      "2025.02.24\n"
     ]
    }
   ],
   "source": [
    "from datetime import datetime , timedelta\n",
    "\n",
    "a=datetime.now() - timedelta(days=5)\n",
    "print(a.strftime(\"%Y.%m.%d\"))"
   ]
  },
  {
   "cell_type": "markdown",
   "metadata": {},
   "source": [
    "Write a Python program to print yesterday, today, tomorrow."
   ]
  },
  {
   "cell_type": "code",
   "execution_count": 4,
   "metadata": {},
   "outputs": [
    {
     "name": "stdout",
     "output_type": "stream",
     "text": [
      "yesterday : 2025.03.01\n",
      "today : 2025.03.02\n",
      "tomorrow : 2025.03.03\n"
     ]
    }
   ],
   "source": [
    "from datetime import datetime , timedelta\n",
    "\n",
    "print(\"yesterday :\",(datetime.now()-timedelta(days=1)).strftime(\"%Y.%m.%d\"))\n",
    "\n",
    "print(\"today :\",(datetime.now()).strftime(\"%Y.%m.%d\"))\n",
    "\n",
    "print(\"tomorrow :\",(datetime.now()+timedelta(days=1)).strftime(\"%Y.%m.%d\"))"
   ]
  },
  {
   "cell_type": "markdown",
   "metadata": {},
   "source": [
    "Write a Python program to drop microseconds from datetime.\n",
    "\n"
   ]
  },
  {
   "cell_type": "code",
   "execution_count": 8,
   "metadata": {},
   "outputs": [
    {
     "name": "stdout",
     "output_type": "stream",
     "text": [
      "2025-03-02 02:15:09\n"
     ]
    }
   ],
   "source": [
    "from datetime import datetime\n",
    "\n",
    "a=datetime.now()\n",
    "b=a.replace(microsecond=0)\n",
    "print(b)"
   ]
  },
  {
   "cell_type": "markdown",
   "metadata": {},
   "source": [
    "Write a Python program to calculate two date difference in seconds"
   ]
  },
  {
   "cell_type": "code",
   "execution_count": 11,
   "metadata": {},
   "outputs": [
    {
     "name": "stdout",
     "output_type": "stream",
     "text": [
      "50400.0 seconds\n"
     ]
    }
   ],
   "source": [
    "from datetime import datetime , timedelta\n",
    "from random import randint\n",
    "a = datetime.now()\n",
    "b = datetime.now()-timedelta(hours=randint(1,20))\n",
    "c = a - b  \n",
    "print(c.total_seconds(),\"seconds\") "
   ]
  }
 ],
 "metadata": {
  "kernelspec": {
   "display_name": "Python 3",
   "language": "python",
   "name": "python3"
  },
  "language_info": {
   "codemirror_mode": {
    "name": "ipython",
    "version": 3
   },
   "file_extension": ".py",
   "mimetype": "text/x-python",
   "name": "python",
   "nbconvert_exporter": "python",
   "pygments_lexer": "ipython3",
   "version": "3.11.3"
  }
 },
 "nbformat": 4,
 "nbformat_minor": 2
}
