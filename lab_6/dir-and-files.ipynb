{
 "cells": [
  {
   "cell_type": "code",
   "execution_count": 1,
   "metadata": {},
   "outputs": [
    {
     "name": "stdout",
     "output_type": "stream",
     "text": [
      "The specified path does not exist.\n"
     ]
    }
   ],
   "source": [
    "import os\n",
    "\n",
    "def list_contents(path):\n",
    "    if not os.path.exists(path):\n",
    "        print(\"The specified path does not exist.\")\n",
    "        return\n",
    "    \n",
    "    all_items = os.listdir(path)\n",
    "    \n",
    "    directories = [item for item in all_items if os.path.isdir(os.path.join(path, item))]\n",
    "    files = [item for item in all_items if os.path.isfile(os.path.join(path, item))]\n",
    "    \n",
    "    print(\"\\nDirectories:\")\n",
    "    print(directories if directories else \"No directories found.\")\n",
    "    \n",
    "    print(\"\\nFiles:\")\n",
    "    print(files if files else \"No files found.\")\n",
    "    \n",
    "    print(\"\\nAll items:\")\n",
    "    print(all_items if all_items else \"The directory is empty.\")\n",
    "\n",
    "path = input(\"Enter the path: \")\n",
    "list_contents(path)\n"
   ]
  }
 ],
 "metadata": {
  "kernelspec": {
   "display_name": "Python 3",
   "language": "python",
   "name": "python3"
  },
  "language_info": {
   "codemirror_mode": {
    "name": "ipython",
    "version": 3
   },
   "file_extension": ".py",
   "mimetype": "text/x-python",
   "name": "python",
   "nbconvert_exporter": "python",
   "pygments_lexer": "ipython3",
   "version": "3.11.3"
  }
 },
 "nbformat": 4,
 "nbformat_minor": 2
}
